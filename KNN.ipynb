{
  "nbformat": 4,
  "nbformat_minor": 0,
  "metadata": {
    "colab": {
      "name": "Untitled5.ipynb",
      "provenance": [],
      "collapsed_sections": [],
      "include_colab_link": true
    },
    "kernelspec": {
      "name": "python3",
      "display_name": "Python 3"
    }
  },
  "cells": [
    {
      "cell_type": "markdown",
      "metadata": {
        "id": "view-in-github",
        "colab_type": "text"
      },
      "source": [
        "<a href=\"https://colab.research.google.com/github/RanjithMohan/AGE-ESTIMATION-COMPARISON/blob/master/KNN.ipynb\" target=\"_parent\"><img src=\"https://colab.research.google.com/assets/colab-badge.svg\" alt=\"Open In Colab\"/></a>"
      ]
    },
    {
      "cell_type": "code",
      "metadata": {
        "id": "A5NBOHwS06aM",
        "colab_type": "code",
        "colab": {
          "base_uri": "https://localhost:8080/",
          "height": 151
        },
        "outputId": "6d67d76a-cfaa-474e-9f87-7a8369ef9ddc"
      },
      "source": [
        "!git clone https://github.com/RanjithMohan/AGE-ESTIMATION-COMPARISON.git"
      ],
      "execution_count": 1,
      "outputs": [
        {
          "output_type": "stream",
          "text": [
            "Cloning into 'AGE-ESTIMATION-COMPARISON'...\n",
            "remote: Enumerating objects: 45747, done.\u001b[K\n",
            "remote: Counting objects: 100% (45747/45747), done.\u001b[K\n",
            "remote: Compressing objects: 100% (35947/35947), done.\u001b[K\n",
            "remote: Total 45747 (delta 9801), reused 45740 (delta 9798), pack-reused 0\n",
            "Receiving objects: 100% (45747/45747), 130.07 MiB | 31.03 MiB/s, done.\n",
            "Resolving deltas: 100% (9801/9801), done.\n",
            "Checking out files: 100% (26544/26544), done.\n"
          ],
          "name": "stdout"
        }
      ]
    }
  ]
}